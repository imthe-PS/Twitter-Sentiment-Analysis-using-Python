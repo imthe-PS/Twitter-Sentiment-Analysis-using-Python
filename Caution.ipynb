{
 "cells": [
  {
   "cell_type": "markdown",
   "metadata": {},
   "source": [
    "## *I have replaced the API keys with 'xx' values*\n",
    "\n",
    "## *Replace the x values with your API keys*\n",
    "\n",
    "## *Don't share your API keys with anyone else*"
   ]
  },
  {
   "cell_type": "markdown",
   "metadata": {},
   "source": [
    "## NOTE : If you have any queries feel free to mail me.\n",
    "    \n",
    "## E-mail : jkpsrinivas.b.e@gmail.com"
   ]
  }
 ],
 "metadata": {
  "kernelspec": {
   "display_name": "Python 3",
   "language": "python",
   "name": "python3"
  },
  "language_info": {
   "codemirror_mode": {
    "name": "ipython",
    "version": 3
   },
   "file_extension": ".py",
   "mimetype": "text/x-python",
   "name": "python",
   "nbconvert_exporter": "python",
   "pygments_lexer": "ipython3",
   "version": "3.7.6"
  }
 },
 "nbformat": 4,
 "nbformat_minor": 4
}
